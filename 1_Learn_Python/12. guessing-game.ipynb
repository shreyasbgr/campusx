{
 "cells": [
  {
   "cell_type": "code",
   "execution_count": 1,
   "id": "fcb413c0",
   "metadata": {},
   "outputs": [],
   "source": [
    "import random"
   ]
  },
  {
   "cell_type": "code",
   "execution_count": 8,
   "id": "1cc41e45",
   "metadata": {},
   "outputs": [
    {
     "data": {
      "text/plain": [
       "62"
      ]
     },
     "execution_count": 8,
     "metadata": {},
     "output_type": "execute_result"
    }
   ],
   "source": [
    "random.randint(1,100)"
   ]
  },
  {
   "cell_type": "code",
   "execution_count": 10,
   "id": "ece95338",
   "metadata": {},
   "outputs": [
    {
     "name": "stdout",
     "output_type": "stream",
     "text": [
      "Chal guess kar30\n",
      "Guess higher\n",
      "Chal guess kar50\n",
      "Guess higher\n",
      "Chal guess kar70\n",
      "Guess lower\n",
      "Chal guess kar60\n",
      "Guess lower\n",
      "Chal guess kar55\n",
      "Guess higher\n",
      "Chal guess kar57\n",
      "Guess higher\n",
      "Chal guess kar59\n",
      "Guess lower\n",
      "Chal guess kar58\n",
      "Sahi Jawab\n",
      "You took 8 attempts\n"
     ]
    }
   ],
   "source": [
    "jackpot = random.randint(1,100)\n",
    "\n",
    "guess = int(input(\"Chal guess kar\"))\n",
    "counter = 1\n",
    "\n",
    "while guess != jackpot:\n",
    "    if guess < jackpot:\n",
    "        print(\"Guess higher\")\n",
    "    else:\n",
    "        print(\"Guess lower\")\n",
    "        \n",
    "    guess = int(input(\"Chal guess kar\"))\n",
    "    counter+=1\n",
    "    \n",
    "    \n",
    "print(\"Sahi Jawab\")\n",
    "print(\"You took\",counter,\"attempts\")\n",
    "    "
   ]
  },
  {
   "cell_type": "code",
   "execution_count": null,
   "id": "6d56340b",
   "metadata": {},
   "outputs": [],
   "source": []
  }
 ],
 "metadata": {
  "kernelspec": {
   "display_name": "Python 3",
   "language": "python",
   "name": "python3"
  },
  "language_info": {
   "codemirror_mode": {
    "name": "ipython",
    "version": 3
   },
   "file_extension": ".py",
   "mimetype": "text/x-python",
   "name": "python",
   "nbconvert_exporter": "python",
   "pygments_lexer": "ipython3",
   "version": "3.8.8"
  }
 },
 "nbformat": 4,
 "nbformat_minor": 5
}
