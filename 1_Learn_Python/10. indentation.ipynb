{
 "cells": [
  {
   "cell_type": "code",
   "execution_count": null,
   "id": "fdbac154",
   "metadata": {},
   "outputs": [],
   "source": [
    "if(name == \"xyz\"){\n",
    "something;\n",
    "    something;\n",
    "}else{\n",
    "something else;\n",
    "    something else;\n",
    "}"
   ]
  },
  {
   "cell_type": "code",
   "execution_count": 7,
   "id": "3a4d48a4",
   "metadata": {},
   "outputs": [
    {
     "name": "stdout",
     "output_type": "stream",
     "text": [
      "line 1\n",
      "line2\n",
      "line 5\n"
     ]
    }
   ],
   "source": [
    "name=\"xyz\"\n",
    "if name == \"xyz\":\n",
    "    print('line 1')\n",
    "    print('line2')\n",
    "    if 5 == 5:\n",
    "        print('line 5')\n",
    "else:\n",
    "    print('line3')"
   ]
  },
  {
   "cell_type": "code",
   "execution_count": null,
   "id": "be1ba026",
   "metadata": {},
   "outputs": [],
   "source": []
  }
 ],
 "metadata": {
  "kernelspec": {
   "display_name": "Python 3",
   "language": "python",
   "name": "python3"
  },
  "language_info": {
   "codemirror_mode": {
    "name": "ipython",
    "version": 3
   },
   "file_extension": ".py",
   "mimetype": "text/x-python",
   "name": "python",
   "nbconvert_exporter": "python",
   "pygments_lexer": "ipython3",
   "version": "3.8.8"
  }
 },
 "nbformat": 4,
 "nbformat_minor": 5
}
