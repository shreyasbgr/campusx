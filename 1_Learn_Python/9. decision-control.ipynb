{
 "cells": [
  {
   "cell_type": "code",
   "execution_count": 6,
   "id": "ea0259a8",
   "metadata": {},
   "outputs": [
    {
     "name": "stdout",
     "output_type": "stream",
     "text": [
      "Apna email batasrh\n",
      "Email galat hai sahi likho\n"
     ]
    }
   ],
   "source": [
    "# correct email- campusx@gmail.com\n",
    "# password - 1234\n",
    "\n",
    "email = input(\"Apna email bata\")\n",
    "if '@' in email:\n",
    "    password = input(\"Apna passowrd bhi bata\")\n",
    "\n",
    "    if email == \"campusx@gmail.com\" and password == \"1234\":\n",
    "        print(\"Welcome\")\n",
    "    elif email == \"campusx@gmail.com\" and password != \"1234\":\n",
    "        print(\"Password Incorrect\")\n",
    "        password = input(\"Password fir se bol\")\n",
    "        if password == \"1234\":\n",
    "            print(\"Finally correct\")\n",
    "        else:\n",
    "            print(\"Still incorrect\")\n",
    "    else:\n",
    "        print(\"Incorrect credentials\")\n",
    "else:\n",
    "    print(\"Email galat hai sahi likho\")"
   ]
  },
  {
   "cell_type": "code",
   "execution_count": null,
   "id": "7f1e7e7f",
   "metadata": {},
   "outputs": [],
   "source": []
  }
 ],
 "metadata": {
  "kernelspec": {
   "display_name": "Python 3",
   "language": "python",
   "name": "python3"
  },
  "language_info": {
   "codemirror_mode": {
    "name": "ipython",
    "version": 3
   },
   "file_extension": ".py",
   "mimetype": "text/x-python",
   "name": "python",
   "nbconvert_exporter": "python",
   "pygments_lexer": "ipython3",
   "version": "3.8.8"
  }
 },
 "nbformat": 4,
 "nbformat_minor": 5
}
