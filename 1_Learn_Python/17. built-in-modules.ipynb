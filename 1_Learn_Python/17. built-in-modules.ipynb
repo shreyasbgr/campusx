{
 "cells": [
  {
   "cell_type": "markdown",
   "id": "2a89b52e",
   "metadata": {},
   "source": [
    "## What are modules?\n",
    "\n",
    "##### Consider a module to be the same as a code library.\n",
    "\n",
    "##### A file containing a set of functions you want to include in your application.\n",
    "\n",
    "##### Examples of python modules\n",
    "- Math\n",
    "- Random\n",
    "- os\n",
    "- time\n",
    "\n"
   ]
  },
  {
   "cell_type": "code",
   "execution_count": 3,
   "id": "0c6c5b3a",
   "metadata": {},
   "outputs": [
    {
     "name": "stdout",
     "output_type": "stream",
     "text": [
      "\n",
      "Please wait a moment while I gather a list of all available modules...\n",
      "\n"
     ]
    },
    {
     "name": "stderr",
     "output_type": "stream",
     "text": [
      "C:\\Users\\91842\\anaconda3\\lib\\site-packages\\IPython\\kernel\\__init__.py:12: ShimWarning: The `IPython.kernel` package has been deprecated since IPython 4.0.You should import from ipykernel or jupyter_client instead.\n",
      "  warn(\"The `IPython.kernel` package has been deprecated since IPython 4.0.\"\n",
      "WARNING: AstropyDeprecationWarning: The private astropy._erfa module has been made into its own package, pyerfa, which is a dependency of astropy and can be imported directly using \"import erfa\" [astropy._erfa]\n",
      "C:\\Users\\91842\\anaconda3\\lib\\pkgutil.py:92: MatplotlibDeprecationWarning: \n",
      "The matplotlib.compat module was deprecated in Matplotlib 3.3 and will be removed two minor releases later.\n",
      "  __import__(info.name)\n",
      "C:\\Users\\91842\\anaconda3\\lib\\site-packages\\nltk\\twitter\\__init__.py:21: UserWarning: The twython library has not been installed. Some functionality from the twitter package will not be available.\n",
      "  warnings.warn(\n",
      "C:\\Users\\91842\\anaconda3\\lib\\site-packages\\skimage\\viewer\\utils\\__init__.py:1: UserWarning:\n",
      "\n",
      "Recommended matplotlib backend is `Agg` for full skimage.viewer functionality.\n",
      "\n",
      "C:\\Users\\91842\\anaconda3\\lib\\site-packages\\qtawesome\\iconic_font.py:313: UserWarning:\n",
      "\n",
      "You need to have a running QApplication to use QtAwesome!\n",
      "\n",
      "C:\\Users\\91842\\anaconda3\\lib\\pkgutil.py:107: VisibleDeprecationWarning:\n",
      "\n",
      "zmq.eventloop.minitornado is deprecated in pyzmq 14.0 and will be removed.\n",
      "    Install tornado itself to use zmq with the tornado IOLoop.\n",
      "    \n",
      "\n"
     ]
    },
    {
     "name": "stdout",
     "output_type": "stream",
     "text": [
      "Cython              brain_random        mailbox             smtpd\n",
      "IPython             brain_re            mailcap             smtplib\n",
      "OpenSSL             brain_responses     markupsafe          sndhdr\n",
      "PIL                 brain_scipy_signal  marshal             sniffio\n",
      "PyQt5               brain_six           math                snowballstemmer\n",
      "__future__          brain_sqlalchemy    matplotlib          socket\n",
      "_abc                brain_ssl           mccabe              socketserver\n",
      "_ast                brain_subprocess    menuinst            socks\n",
      "_asyncio            brain_threading     mimetypes           sockshandler\n",
      "_bisect             brain_type          mistune             sortedcollections\n",
      "_black_version      brain_typing        mkl                 sortedcontainers\n",
      "_blake2             brain_uuid          mkl_fft             soupsieve\n",
      "_bootlocale         brotli              mkl_random          sphinx\n",
      "_bz2                bs4                 mlxtend             sphinxcontrib\n",
      "_cffi_backend       builtins            mmap                spyder\n",
      "_codecs             bz2                 mmapfile            spyder_kernels\n",
      "_codecs_cn          cProfile            mmsystem            sqlalchemy\n",
      "_codecs_hk          calendar            mock                sqlite3\n",
      "_codecs_iso2022     certifi             modulefinder        sre_compile\n",
      "_codecs_jp          cffi                more_itertools      sre_constants\n",
      "_codecs_kr          cgi                 mpmath              sre_parse\n",
      "_codecs_tw          cgitb               msgpack             ssl\n",
      "_collections        chardet             msilib              sspi\n",
      "_collections_abc    chunk               msvcrt              sspicon\n",
      "_compat_pickle      click               multipledispatch    stat\n",
      "_compression        cloudpickle         multiprocessing     statistics\n",
      "_contextvars        clyent              mypy_extensions     statsmodels\n",
      "_csv                cmath               nacl                storemagic\n",
      "_ctypes             cmd                 navigator_updater   string\n",
      "_ctypes_test        code                nbclassic           stringprep\n",
      "_datetime           codecs              nbclient            struct\n",
      "_decimal            codeop              nbconvert           subprocess\n",
      "_distutils_hack     collections         nbformat            sunau\n",
      "_dummy_thread       colorama            nest_asyncio        symbol\n",
      "_elementtree        colorsys            netbios             sympy\n",
      "_functools          commctrl            netrc               sympyprinting\n",
      "_hashlib            compileall          networkx            symtable\n",
      "_heapq              comtypes            nltk                sys\n",
      "_imp                concurrent          nntplib             sysconfig\n",
      "_io                 conda               nose                tables\n",
      "_json               conda_build         notebook            tabnanny\n",
      "_locale             conda_content_trust nt                  tarfile\n",
      "_lsprof             conda_env           ntpath              tblib\n",
      "_lzma               conda_package_handling ntsecuritycon       telnetlib\n",
      "_markupbase         conda_token         nturl2path          tempfile\n",
      "_md5                conda_verify        numba               terminado\n",
      "_msi                configparser        numbers             test\n",
      "_multibytecodec     contextlib          numexpr             test_data\n",
      "_multiprocessing    contextlib2         numpy               test_pycosat\n",
      "_nsis               contextvars         numpydoc            testpath\n",
      "_opcode             copy                odbc                tests\n",
      "_operator           copyreg             olefile             textdistance\n",
      "_osx_support        crypt               opcode              textwrap\n",
      "_overlapped         cryptography        openpyxl            this\n",
      "_pickle             csv                 operator            threading\n",
      "_plotly_future_     ctypes              optparse            threadpoolctl\n",
      "_plotly_utils       curl                os                  three_merge\n",
      "_py_abc             curses              packaging           tifffile\n",
      "_pydecimal          cwp                 pandas              time\n",
      "_pyio               cycler              pandocfilters       timeit\n",
      "_pyrsistent_version cython              paramiko            timer\n",
      "_pytest             cythonmagic         parser              tkinter\n",
      "_queue              cytoolz             parso               tlz\n",
      "_random             dask                partd               token\n",
      "_sha1               dataclasses         past                tokenize\n",
      "_sha256             datetime            path                toml\n",
      "_sha3               dateutil            pathlib             toolz\n",
      "_sha512             dbi                 pathlib2            tornado\n",
      "_signal             dbm                 pathspec            tqdm\n",
      "_sitebuiltins       dde                 patsy               trace\n",
      "_socket             decimal             pdb                 traceback\n",
      "_sqlite3            decorator           pep8                tracemalloc\n",
      "_sre                defusedxml          perfmon             traitlets\n",
      "_ssl                diff_match_patch    pexpect             tty\n",
      "_stat               difflib             pickle              turtle\n",
      "_statistics         dis                 pickleshare         turtledemo\n",
      "_string             distributed         pickletools         typed_ast\n",
      "_strptime           distutils           pip                 types\n",
      "_struct             doctest             pipes               typing\n",
      "_symtable           docutils            pkg_resources       typing_extensions\n",
      "_system_path        dummy_threading     pkginfo             ujson\n",
      "_testbuffer         email               pkgutil             unicodecsv\n",
      "_testcapi           encodings           platform            unicodedata\n",
      "_testconsole        ensurepip           plistlib            unittest\n",
      "_testimportmultiple entrypoints         plotly              urllib\n",
      "_testinternalcapi   enum                plotlywidget        urllib3\n",
      "_testmultiphase     erfa                pluggy              uu\n",
      "_thread             errno               ply                 uuid\n",
      "_threading_local    et_xmlfile          poplib              venv\n",
      "_tkinter            fastcache           posixpath           warnings\n",
      "_tracemalloc        faulthandler        pprint              watchdog\n",
      "_warnings           filecmp             profile             wave\n",
      "_weakref            fileinput           prometheus_client   wcwidth\n",
      "_weakrefset         filelock            prompt_toolkit      weakref\n",
      "_win32sysloader     flake8              pstats              webbrowser\n",
      "_winapi             flask               psutil              webencodings\n",
      "_winxptheme         fnmatch             pty                 werkzeug\n",
      "_xxsubinterpreters  formatter           ptyprocess          wheel\n",
      "_yaml               fractions           pvectorc            widgetsnbextension\n",
      "abc                 fsspec              py                  win2kras\n",
      "adodbapi            ftplib              py_compile          win32api\n",
      "afxres              functools           pyclbr              win32clipboard\n",
      "aifc                future              pycodestyle         win32com\n",
      "alabaster           gc                  pycosat             win32con\n",
      "anaconda_navigator  genericpath         pycparser           win32console\n",
      "anaconda_project    getopt              pycurl              win32cred\n",
      "antigravity         getpass             pydoc               win32crypt\n",
      "anyio               gettext             pydoc_data          win32cryptcon\n",
      "appdirs             gevent              pydocstyle          win32ctypes\n",
      "argh                glob                pyexpat             win32event\n",
      "argon2              glob2               pyflakes            win32evtlog\n",
      "argparse            greenlet            pygments            win32evtlogutil\n",
      "array               gzip                pylab               win32file\n",
      "asn1crypto          h5py                pylint              win32gui\n",
      "ast                 hashlib             pyls                win32gui_struct\n",
      "astroid             heapdict            pyls_black          win32help\n",
      "astropy             heapq               pyls_jsonrpc        win32inet\n",
      "async_generator     hmac                pyls_spyder         win32inetcon\n"
     ]
    },
    {
     "name": "stdout",
     "output_type": "stream",
     "text": [
      "asynchat            html                pyodbc              win32job\n",
      "asyncio             html5lib            pyparsing           win32lz\n",
      "asyncore            http                pyreadline          win32net\n",
      "atexit              idlelib             pyrsistent          win32netcon\n",
      "atomicwrites        idna                pytest              win32pdh\n",
      "attr                imagecodecs         pythoncom           win32pdhquery\n",
      "audioop             imageio             pytz                win32pdhutil\n",
      "autopep8            imagesize           pywin               win32pipe\n",
      "autoreload          imaplib             pywin32_bootstrap   win32print\n",
      "babel               imghdr              pywin32_testutil    win32process\n",
      "backcall            imp                 pywintypes          win32profile\n",
      "backports           importlib           pywt                win32ras\n",
      "base64              importlib_metadata  pyximport           win32rcparser\n",
      "bcrypt              iniconfig           qdarkstyle          win32security\n",
      "bdb                 inspect             qtawesome           win32service\n",
      "binascii            intervaltree        qtconsole           win32serviceutil\n",
      "binhex              io                  qtpy                win32timezone\n",
      "binstar_client      ipaddress           queue               win32trace\n",
      "bisect              ipykernel           quopri              win32traceutil\n",
      "bitarray            ipykernel_launcher  random              win32transaction\n",
      "bkcharts            ipython_genutils    rasutil             win32ts\n",
      "black               ipywidgets          re                  win32ui\n",
      "blackd              isapi               readline            win32uiole\n",
      "bleach              isort               regcheck            win32verstamp\n",
      "blib2to3            isympy              regex               win32wnet\n",
      "bokeh               itertools           regutil             win_inet_pton\n",
      "boto                itsdangerous        repo_cli            win_unicode_console\n",
      "bottleneck          jdcal               reprlib             wincertstore\n",
      "brain_argparse      jedi                requests            winerror\n",
      "brain_attrs         jinja2              retrying            winioctlcon\n",
      "brain_boto3         joblib              rlcompleter         winnt\n",
      "brain_builtin_inference json                rmagic              winperf\n",
      "brain_collections   json5               rope                winpty\n",
      "brain_crypt         jsonschema          rtree               winreg\n",
      "brain_curses        jupyter             ruamel_yaml         winsound\n",
      "brain_dataclasses   jupyter_client      run                 winxpgui\n",
      "brain_dateutil      jupyter_console     runpy               winxptheme\n",
      "brain_fstrings      jupyter_core        sched               wrapt\n",
      "brain_functools     jupyter_packaging   scipy               wsgiref\n",
      "brain_gi            jupyter_server      scripts             xdrlib\n",
      "brain_hashlib       jupyterlab          seaborn             xlrd\n",
      "brain_http          jupyterlab_pygments secrets             xlsxwriter\n",
      "brain_hypothesis    jupyterlab_server   select              xlwings\n",
      "brain_io            jupyterlab_widgets  selectors           xlwt\n",
      "brain_mechanize     keyring             send2trash          xml\n",
      "brain_multiprocessing keyword             servicemanager      xmlrpc\n",
      "brain_namedtuple_enum kiwisolver          setuptools          xmltodict\n",
      "brain_nose          lazy_object_proxy   shelve              xxsubtype\n",
      "brain_numpy_core_fromnumeric lib2to3             shlex               yaml\n",
      "brain_numpy_core_function_base libarchive          shutil              yapf\n",
      "brain_numpy_core_multiarray libfuturize         signal              yapftests\n",
      "brain_numpy_core_numeric libpasteurize       simplegeneric       zict\n",
      "brain_numpy_core_numerictypes lief                singledispatch      zipapp\n",
      "brain_numpy_core_umath linecache           sip                 zipfile\n",
      "brain_numpy_ndarray llvmlite            sipconfig           zipimport\n",
      "brain_numpy_random_mtrand locale              sipdistutils        zipp\n",
      "brain_numpy_utils   locket              site                zlib\n",
      "brain_pkg_resources logging             six                 zmq\n",
      "brain_pytest        lxml                skimage             zope\n",
      "brain_qt            lzma                sklearn             \n",
      "\n",
      "Enter any module name to get more help.  Or, type \"modules spam\" to search\n",
      "for modules whose name or summary contain the string \"spam\".\n",
      "\n"
     ]
    }
   ],
   "source": [
    "help('modules')"
   ]
  },
  {
   "cell_type": "code",
   "execution_count": 6,
   "id": "0d312e18",
   "metadata": {},
   "outputs": [],
   "source": [
    "# include <stdio.h>\n",
    "import math"
   ]
  },
  {
   "cell_type": "code",
   "execution_count": 7,
   "id": "56a413e4",
   "metadata": {},
   "outputs": [
    {
     "data": {
      "text/plain": [
       "3.141592653589793"
      ]
     },
     "execution_count": 7,
     "metadata": {},
     "output_type": "execute_result"
    }
   ],
   "source": [
    "math.pi"
   ]
  },
  {
   "cell_type": "code",
   "execution_count": 8,
   "id": "963fbc5d",
   "metadata": {},
   "outputs": [
    {
     "data": {
      "text/plain": [
       "2.718281828459045"
      ]
     },
     "execution_count": 8,
     "metadata": {},
     "output_type": "execute_result"
    }
   ],
   "source": [
    "math.e"
   ]
  },
  {
   "cell_type": "code",
   "execution_count": 9,
   "id": "f859ba17",
   "metadata": {},
   "outputs": [
    {
     "data": {
      "text/plain": [
       "120"
      ]
     },
     "execution_count": 9,
     "metadata": {},
     "output_type": "execute_result"
    }
   ],
   "source": [
    "math.factorial(5)"
   ]
  },
  {
   "cell_type": "code",
   "execution_count": 10,
   "id": "a28212ca",
   "metadata": {},
   "outputs": [
    {
     "data": {
      "text/plain": [
       "7"
      ]
     },
     "execution_count": 10,
     "metadata": {},
     "output_type": "execute_result"
    }
   ],
   "source": [
    "math.ceil(6.3)"
   ]
  },
  {
   "cell_type": "code",
   "execution_count": 11,
   "id": "306aadae",
   "metadata": {},
   "outputs": [
    {
     "data": {
      "text/plain": [
       "6"
      ]
     },
     "execution_count": 11,
     "metadata": {},
     "output_type": "execute_result"
    }
   ],
   "source": [
    "math.floor(6.9)"
   ]
  },
  {
   "cell_type": "code",
   "execution_count": 12,
   "id": "443746da",
   "metadata": {},
   "outputs": [
    {
     "data": {
      "text/plain": [
       "10.0"
      ]
     },
     "execution_count": 12,
     "metadata": {},
     "output_type": "execute_result"
    }
   ],
   "source": [
    "math.sqrt(100)"
   ]
  },
  {
   "cell_type": "code",
   "execution_count": 13,
   "id": "ea6dcbf0",
   "metadata": {},
   "outputs": [],
   "source": [
    "import random"
   ]
  },
  {
   "cell_type": "code",
   "execution_count": 19,
   "id": "12e2012d",
   "metadata": {},
   "outputs": [
    {
     "data": {
      "text/plain": [
       "54"
      ]
     },
     "execution_count": 19,
     "metadata": {},
     "output_type": "execute_result"
    }
   ],
   "source": [
    "random.randint(1,100)"
   ]
  },
  {
   "cell_type": "code",
   "execution_count": 30,
   "id": "f12dfd5f",
   "metadata": {},
   "outputs": [
    {
     "data": {
      "text/plain": [
       "[2, 3, 4, 1, 5]"
      ]
     },
     "execution_count": 30,
     "metadata": {},
     "output_type": "execute_result"
    }
   ],
   "source": [
    "a = [1,2,3,4,5]\n",
    "random.shuffle(a)\n",
    "a"
   ]
  },
  {
   "cell_type": "code",
   "execution_count": 1,
   "id": "2e4e4338",
   "metadata": {},
   "outputs": [],
   "source": [
    "import time"
   ]
  },
  {
   "cell_type": "code",
   "execution_count": 5,
   "id": "9cea3770",
   "metadata": {},
   "outputs": [
    {
     "data": {
      "text/plain": [
       "1675517021.5457733"
      ]
     },
     "execution_count": 5,
     "metadata": {},
     "output_type": "execute_result"
    }
   ],
   "source": [
    "time.time()"
   ]
  },
  {
   "cell_type": "code",
   "execution_count": 4,
   "id": "dff5536d",
   "metadata": {},
   "outputs": [
    {
     "data": {
      "text/plain": [
       "'Sat Feb  4 18:53:32 2023'"
      ]
     },
     "execution_count": 4,
     "metadata": {},
     "output_type": "execute_result"
    }
   ],
   "source": [
    "time.ctime()"
   ]
  },
  {
   "cell_type": "code",
   "execution_count": 39,
   "id": "81795037",
   "metadata": {},
   "outputs": [
    {
     "name": "stdout",
     "output_type": "stream",
     "text": [
      "Hello\n",
      "World\n"
     ]
    }
   ],
   "source": [
    "print(\"Hello\")\n",
    "time.sleep(1)\n",
    "print(\"World\")"
   ]
  },
  {
   "cell_type": "code",
   "execution_count": 40,
   "id": "4a1a56de",
   "metadata": {},
   "outputs": [],
   "source": [
    "import os"
   ]
  },
  {
   "cell_type": "code",
   "execution_count": 41,
   "id": "43482e5b",
   "metadata": {},
   "outputs": [
    {
     "data": {
      "text/plain": [
       "'C:\\\\Users\\\\91842\\\\100-days-of-python\\\\day9-builtins'"
      ]
     },
     "execution_count": 41,
     "metadata": {},
     "output_type": "execute_result"
    }
   ],
   "source": [
    "os.getcwd()"
   ]
  },
  {
   "cell_type": "code",
   "execution_count": 42,
   "id": "7d30be7e",
   "metadata": {},
   "outputs": [
    {
     "data": {
      "text/plain": [
       "['.ipynb_checkpoints', 'built-in-functions.ipynb', 'built-in-modules.ipynb']"
      ]
     },
     "execution_count": 42,
     "metadata": {},
     "output_type": "execute_result"
    }
   ],
   "source": [
    "os.listdir()"
   ]
  },
  {
   "cell_type": "code",
   "execution_count": null,
   "id": "c206556f",
   "metadata": {},
   "outputs": [],
   "source": []
  }
 ],
 "metadata": {
  "kernelspec": {
   "display_name": "Python 3",
   "language": "python",
   "name": "python3"
  },
  "language_info": {
   "codemirror_mode": {
    "name": "ipython",
    "version": 3
   },
   "file_extension": ".py",
   "mimetype": "text/x-python",
   "name": "python",
   "nbconvert_exporter": "python",
   "pygments_lexer": "ipython3",
   "version": "3.10.7"
  },
  "vscode": {
   "interpreter": {
    "hash": "e8bba4f2be892cbd4f39a9f240acc2c7ebb8cef7264d56c87dbb8c6b0bcbe231"
   }
  }
 },
 "nbformat": 4,
 "nbformat_minor": 5
}
