{
 "cells": [
  {
   "cell_type": "code",
   "execution_count": 1,
   "id": "e2e025af",
   "metadata": {},
   "outputs": [
    {
     "name": "stdout",
     "output_type": "stream",
     "text": [
      "Hello World\n"
     ]
    }
   ],
   "source": [
    "print(\"Hello World\")"
   ]
  },
  {
   "cell_type": "code",
   "execution_count": 2,
   "id": "b1aa4d89",
   "metadata": {},
   "outputs": [
    {
     "name": "stdout",
     "output_type": "stream",
     "text": [
      "6\n"
     ]
    }
   ],
   "source": [
    "print(6)"
   ]
  },
  {
   "cell_type": "code",
   "execution_count": 3,
   "id": "3d155eaf",
   "metadata": {},
   "outputs": [
    {
     "name": "stdout",
     "output_type": "stream",
     "text": [
      "5.6\n"
     ]
    }
   ],
   "source": [
    "print(5.6)"
   ]
  },
  {
   "cell_type": "code",
   "execution_count": 4,
   "id": "aac10066",
   "metadata": {},
   "outputs": [
    {
     "name": "stdout",
     "output_type": "stream",
     "text": [
      "False\n"
     ]
    }
   ],
   "source": [
    "print(False)"
   ]
  },
  {
   "cell_type": "code",
   "execution_count": 5,
   "id": "13bfcbc3",
   "metadata": {},
   "outputs": [
    {
     "name": "stdout",
     "output_type": "stream",
     "text": [
      "India Pakistan Nepal Srilanka\n"
     ]
    }
   ],
   "source": [
    "print(\"India\",\"Pakistan\",\"Nepal\",\"Srilanka\")"
   ]
  },
  {
   "cell_type": "code",
   "execution_count": 6,
   "id": "61f54509",
   "metadata": {},
   "outputs": [
    {
     "name": "stdout",
     "output_type": "stream",
     "text": [
      "India 5 True\n"
     ]
    }
   ],
   "source": [
    "print(\"India\",5,True)"
   ]
  },
  {
   "cell_type": "code",
   "execution_count": 7,
   "id": "3e74300a",
   "metadata": {},
   "outputs": [
    {
     "name": "stdout",
     "output_type": "stream",
     "text": [
      "India/Pakistan/Nepal/Srilanka\n"
     ]
    }
   ],
   "source": [
    "print(\"India\",\"Pakistan\",\"Nepal\",\"Srilanka\",sep='/')"
   ]
  },
  {
   "cell_type": "code",
   "execution_count": 8,
   "id": "bb2dbb42",
   "metadata": {},
   "outputs": [
    {
     "name": "stdout",
     "output_type": "stream",
     "text": [
      "India-Pakistan-Nepal-Srilanka\n"
     ]
    }
   ],
   "source": [
    "print(\"India\",\"Pakistan\",\"Nepal\",\"Srilanka\",sep='-')"
   ]
  },
  {
   "cell_type": "code",
   "execution_count": 9,
   "id": "4de4a0f1",
   "metadata": {},
   "outputs": [
    {
     "name": "stdout",
     "output_type": "stream",
     "text": [
      "Hello\n",
      "World\n"
     ]
    }
   ],
   "source": [
    "print(\"Hello\")\n",
    "print(\"World\")"
   ]
  },
  {
   "cell_type": "code",
   "execution_count": 10,
   "id": "1fb48c8c",
   "metadata": {},
   "outputs": [
    {
     "name": "stdout",
     "output_type": "stream",
     "text": [
      "Hello world\n"
     ]
    }
   ],
   "source": [
    "print(\"Hello\",end=' ')\n",
    "print(\"world\")"
   ]
  },
  {
   "cell_type": "code",
   "execution_count": null,
   "id": "956cf58f",
   "metadata": {},
   "outputs": [],
   "source": [
    "print()"
   ]
  }
 ],
 "metadata": {
  "kernelspec": {
   "display_name": "Python 3",
   "language": "python",
   "name": "python3"
  },
  "language_info": {
   "codemirror_mode": {
    "name": "ipython",
    "version": 3
   },
   "file_extension": ".py",
   "mimetype": "text/x-python",
   "name": "python",
   "nbconvert_exporter": "python",
   "pygments_lexer": "ipython3",
   "version": "3.8.8"
  }
 },
 "nbformat": 4,
 "nbformat_minor": 5
}
