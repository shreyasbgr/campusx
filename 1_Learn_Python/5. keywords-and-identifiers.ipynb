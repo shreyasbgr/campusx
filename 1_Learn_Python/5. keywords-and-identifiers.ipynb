{
 "cells": [
  {
   "cell_type": "markdown",
   "id": "413ae6e6",
   "metadata": {},
   "source": [
    "## Keywords"
   ]
  },
  {
   "cell_type": "markdown",
   "id": "7ce93ccb",
   "metadata": {},
   "source": [
    "- Python is a case sensitive programming language"
   ]
  },
  {
   "cell_type": "markdown",
   "id": "c4546f6a",
   "metadata": {},
   "source": [
    "In programming, a keyword is a word that is reserved by a program because the word has a special meaning. Keywords can be commands or parameters. Every programming language has a set of keywords that cannot be used as variable names"
   ]
  },
  {
   "cell_type": "code",
   "execution_count": 1,
   "id": "ec040692",
   "metadata": {},
   "outputs": [
    {
     "name": "stdout",
     "output_type": "stream",
     "text": [
      "['False', 'None', 'True', 'and', 'as', 'assert', 'async', 'await', 'break', 'class', 'continue', 'def', 'del', 'elif', 'else', 'except', 'finally', 'for', 'from', 'global', 'if', 'import', 'in', 'is', 'lambda', 'nonlocal', 'not', 'or', 'pass', 'raise', 'return', 'try', 'while', 'with', 'yield']\n"
     ]
    }
   ],
   "source": [
    "# python has 33 keywords\n",
    "import keyword\n",
    "print(keyword.kwlist)"
   ]
  },
  {
   "cell_type": "markdown",
   "id": "65162d97",
   "metadata": {},
   "source": [
    "## Identifiers"
   ]
  },
  {
   "cell_type": "markdown",
   "id": "58edf93b",
   "metadata": {},
   "source": [
    "A Python identifier is a name used to identify a variable, function, class, module or other object."
   ]
  },
  {
   "cell_type": "markdown",
   "id": "fd1b0897",
   "metadata": {},
   "source": [
    "#### Rules for setting Identifiers"
   ]
  },
  {
   "cell_type": "markdown",
   "id": "373a9bf4",
   "metadata": {},
   "source": [
    "- can only start with an alphabet or _\n",
    "- Followed by 0 or more letter,_ and digits\n",
    "- keywords cannot be used as an identifiers"
   ]
  },
  {
   "cell_type": "code",
   "execution_count": 15,
   "id": "72f99594",
   "metadata": {},
   "outputs": [
    {
     "ename": "SyntaxError",
     "evalue": "cannot assign to False (<ipython-input-15-86a2d1369f84>, line 1)",
     "output_type": "error",
     "traceback": [
      "\u001b[1;36m  File \u001b[1;32m\"<ipython-input-15-86a2d1369f84>\"\u001b[1;36m, line \u001b[1;32m1\u001b[0m\n\u001b[1;33m    False = \"Nitish\"\u001b[0m\n\u001b[1;37m    ^\u001b[0m\n\u001b[1;31mSyntaxError\u001b[0m\u001b[1;31m:\u001b[0m cannot assign to False\n"
     ]
    }
   ],
   "source": [
    "False = \"Nitish\"\n",
    "print(False)"
   ]
  },
  {
   "cell_type": "code",
   "execution_count": null,
   "id": "926ddf62",
   "metadata": {},
   "outputs": [],
   "source": []
  }
 ],
 "metadata": {
  "kernelspec": {
   "display_name": "Python 3",
   "language": "python",
   "name": "python3"
  },
  "language_info": {
   "codemirror_mode": {
    "name": "ipython",
    "version": 3
   },
   "file_extension": ".py",
   "mimetype": "text/x-python",
   "name": "python",
   "nbconvert_exporter": "python",
   "pygments_lexer": "ipython3",
   "version": "3.8.8"
  }
 },
 "nbformat": 4,
 "nbformat_minor": 5
}
