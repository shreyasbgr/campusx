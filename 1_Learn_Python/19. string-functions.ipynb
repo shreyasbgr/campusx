{
 "cells": [
  {
   "cell_type": "markdown",
   "id": "1c62c4de",
   "metadata": {},
   "source": [
    "### Common Functions\n",
    "\n",
    "- len\n",
    "- max\n",
    "- min\n",
    "- sorted"
   ]
  },
  {
   "cell_type": "code",
   "execution_count": 3,
   "id": "bd97e9a1",
   "metadata": {},
   "outputs": [
    {
     "data": {
      "text/plain": [
       "7"
      ]
     },
     "execution_count": 3,
     "metadata": {},
     "output_type": "execute_result"
    }
   ],
   "source": [
    "c = \"kolkata\"\n",
    "len(c)"
   ]
  },
  {
   "cell_type": "code",
   "execution_count": 4,
   "id": "5a2f2ea3",
   "metadata": {},
   "outputs": [
    {
     "data": {
      "text/plain": [
       "'t'"
      ]
     },
     "execution_count": 4,
     "metadata": {},
     "output_type": "execute_result"
    }
   ],
   "source": [
    "max(c)"
   ]
  },
  {
   "cell_type": "code",
   "execution_count": 5,
   "id": "d8da11cc",
   "metadata": {},
   "outputs": [
    {
     "data": {
      "text/plain": [
       "'a'"
      ]
     },
     "execution_count": 5,
     "metadata": {},
     "output_type": "execute_result"
    }
   ],
   "source": [
    "min(c)"
   ]
  },
  {
   "cell_type": "code",
   "execution_count": 7,
   "id": "ef589f05",
   "metadata": {},
   "outputs": [
    {
     "data": {
      "text/plain": [
       "['t', 'o', 'l', 'k', 'k', 'a', 'a']"
      ]
     },
     "execution_count": 7,
     "metadata": {},
     "output_type": "execute_result"
    }
   ],
   "source": [
    "sorted(c,reverse=True)"
   ]
  },
  {
   "cell_type": "markdown",
   "id": "d22d0ac6",
   "metadata": {},
   "source": [
    "### 1. Capitalize/Title/Upper/Lower/Swapcase"
   ]
  },
  {
   "cell_type": "code",
   "execution_count": 11,
   "id": "d0bc5e0d",
   "metadata": {},
   "outputs": [
    {
     "data": {
      "text/plain": [
       "'It is raining today'"
      ]
     },
     "execution_count": 11,
     "metadata": {},
     "output_type": "execute_result"
    }
   ],
   "source": [
    "\n",
    "\"it is raining today\".capitalize()"
   ]
  },
  {
   "cell_type": "code",
   "execution_count": 12,
   "id": "3507ae9d",
   "metadata": {},
   "outputs": [
    {
     "data": {
      "text/plain": [
       "'It Is Raining Today'"
      ]
     },
     "execution_count": 12,
     "metadata": {},
     "output_type": "execute_result"
    }
   ],
   "source": [
    "\"it is raining today\".title()"
   ]
  },
  {
   "cell_type": "code",
   "execution_count": 14,
   "id": "3a175400",
   "metadata": {},
   "outputs": [
    {
     "data": {
      "text/plain": [
       "'kolkata'"
      ]
     },
     "execution_count": 14,
     "metadata": {},
     "output_type": "execute_result"
    }
   ],
   "source": [
    "c.upper().lower()"
   ]
  },
  {
   "cell_type": "code",
   "execution_count": 15,
   "id": "ff2d5551",
   "metadata": {},
   "outputs": [
    {
     "data": {
      "text/plain": [
       "'kOlKaTa'"
      ]
     },
     "execution_count": 15,
     "metadata": {},
     "output_type": "execute_result"
    }
   ],
   "source": [
    "\"KoLkAtA\".swapcase()"
   ]
  },
  {
   "cell_type": "code",
   "execution_count": null,
   "id": "415454d1",
   "metadata": {},
   "outputs": [],
   "source": []
  },
  {
   "cell_type": "markdown",
   "id": "ab0ed1aa",
   "metadata": {},
   "source": [
    "### 2. Count"
   ]
  },
  {
   "cell_type": "code",
   "execution_count": 20,
   "id": "c7ae53b5",
   "metadata": {},
   "outputs": [
    {
     "data": {
      "text/plain": [
       "0"
      ]
     },
     "execution_count": 20,
     "metadata": {},
     "output_type": "execute_result"
    }
   ],
   "source": [
    "\"it is raining\".count(\"x\")"
   ]
  },
  {
   "cell_type": "code",
   "execution_count": null,
   "id": "332f4921",
   "metadata": {},
   "outputs": [],
   "source": []
  },
  {
   "cell_type": "markdown",
   "id": "fc3de372",
   "metadata": {},
   "source": [
    "### 3. Find/Index"
   ]
  },
  {
   "cell_type": "code",
   "execution_count": 24,
   "id": "08564c99",
   "metadata": {},
   "outputs": [
    {
     "data": {
      "text/plain": [
       "-1"
      ]
     },
     "execution_count": 24,
     "metadata": {},
     "output_type": "execute_result"
    }
   ],
   "source": [
    "\"it is raining\".find(\"x\")"
   ]
  },
  {
   "cell_type": "code",
   "execution_count": 26,
   "id": "6a58275a",
   "metadata": {},
   "outputs": [
    {
     "ename": "ValueError",
     "evalue": "substring not found",
     "output_type": "error",
     "traceback": [
      "\u001b[1;31m---------------------------------------------------------------------------\u001b[0m",
      "\u001b[1;31mValueError\u001b[0m                                Traceback (most recent call last)",
      "\u001b[1;32m<ipython-input-26-b2b77a3a44a2>\u001b[0m in \u001b[0;36m<module>\u001b[1;34m\u001b[0m\n\u001b[1;32m----> 1\u001b[1;33m \u001b[1;34m\"it is raining\"\u001b[0m\u001b[1;33m.\u001b[0m\u001b[0mindex\u001b[0m\u001b[1;33m(\u001b[0m\u001b[1;34m\"x\"\u001b[0m\u001b[1;33m)\u001b[0m\u001b[1;33m\u001b[0m\u001b[1;33m\u001b[0m\u001b[0m\n\u001b[0m",
      "\u001b[1;31mValueError\u001b[0m: substring not found"
     ]
    }
   ],
   "source": [
    "\"it is raining\".index(\"x\")"
   ]
  },
  {
   "cell_type": "code",
   "execution_count": null,
   "id": "e19a64b3",
   "metadata": {},
   "outputs": [],
   "source": []
  },
  {
   "cell_type": "markdown",
   "id": "3c287730",
   "metadata": {},
   "source": [
    "### 4. endswith/startswith"
   ]
  },
  {
   "cell_type": "code",
   "execution_count": 28,
   "id": "69d47bd0",
   "metadata": {},
   "outputs": [
    {
     "data": {
      "text/plain": [
       "False"
      ]
     },
     "execution_count": 28,
     "metadata": {},
     "output_type": "execute_result"
    }
   ],
   "source": [
    "\"it is raining\".endswith(\"ingef\")"
   ]
  },
  {
   "cell_type": "code",
   "execution_count": 29,
   "id": "ca910c87",
   "metadata": {},
   "outputs": [
    {
     "data": {
      "text/plain": [
       "True"
      ]
     },
     "execution_count": 29,
     "metadata": {},
     "output_type": "execute_result"
    }
   ],
   "source": [
    "\"it is raining\".startswith(\"it\")"
   ]
  },
  {
   "cell_type": "markdown",
   "id": "8ba45f11",
   "metadata": {},
   "source": [
    "### 5. format"
   ]
  },
  {
   "cell_type": "code",
   "execution_count": 30,
   "id": "8b73098a",
   "metadata": {},
   "outputs": [
    {
     "data": {
      "text/plain": [
       "'Hello my name is Nitish and I am 30'"
      ]
     },
     "execution_count": 30,
     "metadata": {},
     "output_type": "execute_result"
    }
   ],
   "source": [
    "\"Hello my name is {} and I am {}\".format(\"Nitish\",30)"
   ]
  },
  {
   "cell_type": "code",
   "execution_count": 31,
   "id": "d2c17443",
   "metadata": {},
   "outputs": [
    {
     "data": {
      "text/plain": [
       "'Hello my name is 30 and I am Nitish'"
      ]
     },
     "execution_count": 31,
     "metadata": {},
     "output_type": "execute_result"
    }
   ],
   "source": [
    "\"Hello my name is {1} and I am {0}\".format(\"Nitish\",30)"
   ]
  },
  {
   "cell_type": "code",
   "execution_count": 33,
   "id": "54e8e1a4",
   "metadata": {},
   "outputs": [
    {
     "data": {
      "text/plain": [
       "'Hello my name is 30 and I am Nitish'"
      ]
     },
     "execution_count": 33,
     "metadata": {},
     "output_type": "execute_result"
    }
   ],
   "source": [
    "\"Hello my name is {age} and I am {name}\".format(name = \"Nitish\",age = 30)"
   ]
  },
  {
   "cell_type": "code",
   "execution_count": 35,
   "id": "2751dc0c",
   "metadata": {},
   "outputs": [
    {
     "data": {
      "text/plain": [
       "'Hello my name is Nitish and I am Nitish'"
      ]
     },
     "execution_count": 35,
     "metadata": {},
     "output_type": "execute_result"
    }
   ],
   "source": [
    "\"Hello my name is {name} and I am {name}\".format(name = \"Nitish\",age = 30, weight = 70)"
   ]
  },
  {
   "cell_type": "markdown",
   "id": "9c49b851",
   "metadata": {},
   "source": [
    "### 6. isalnum/ isalpha/ isdecimal/ isdigit/ isidentifier"
   ]
  },
  {
   "cell_type": "code",
   "execution_count": 37,
   "id": "d07f427a",
   "metadata": {},
   "outputs": [
    {
     "data": {
      "text/plain": [
       "False"
      ]
     },
     "execution_count": 37,
     "metadata": {},
     "output_type": "execute_result"
    }
   ],
   "source": [
    "\"FLAT20&\".isalnum()"
   ]
  },
  {
   "cell_type": "code",
   "execution_count": 39,
   "id": "a965adc8",
   "metadata": {},
   "outputs": [
    {
     "data": {
      "text/plain": [
       "False"
      ]
     },
     "execution_count": 39,
     "metadata": {},
     "output_type": "execute_result"
    }
   ],
   "source": [
    "\"FLAT20\".isalpha()"
   ]
  },
  {
   "cell_type": "code",
   "execution_count": 41,
   "id": "d093cc43",
   "metadata": {},
   "outputs": [
    {
     "data": {
      "text/plain": [
       "False"
      ]
     },
     "execution_count": 41,
     "metadata": {},
     "output_type": "execute_result"
    }
   ],
   "source": [
    "\"20A\".isdigit()"
   ]
  },
  {
   "cell_type": "code",
   "execution_count": 43,
   "id": "d50afe0b",
   "metadata": {},
   "outputs": [
    {
     "data": {
      "text/plain": [
       "True"
      ]
     },
     "execution_count": 43,
     "metadata": {},
     "output_type": "execute_result"
    }
   ],
   "source": [
    "\"hello_world\".isidentifier()"
   ]
  },
  {
   "cell_type": "code",
   "execution_count": null,
   "id": "8c2a9ae9",
   "metadata": {},
   "outputs": [],
   "source": [
    "\"hello\".is"
   ]
  },
  {
   "cell_type": "markdown",
   "id": "301b6e54",
   "metadata": {},
   "source": [
    "### 7. Split"
   ]
  },
  {
   "cell_type": "code",
   "execution_count": 44,
   "id": "5ac47111",
   "metadata": {},
   "outputs": [
    {
     "data": {
      "text/plain": [
       "['who', 'is', 'the', 'pm', 'of', 'india']"
      ]
     },
     "execution_count": 44,
     "metadata": {},
     "output_type": "execute_result"
    }
   ],
   "source": [
    "\"who is the pm of india\".split()"
   ]
  },
  {
   "cell_type": "code",
   "execution_count": 47,
   "id": "bc84b4b8",
   "metadata": {},
   "outputs": [
    {
     "data": {
      "text/plain": [
       "['who is the pm of india']"
      ]
     },
     "execution_count": 47,
     "metadata": {},
     "output_type": "execute_result"
    }
   ],
   "source": [
    "\"who is the pm of india\".split(\"x\")"
   ]
  },
  {
   "cell_type": "markdown",
   "id": "4509cd24",
   "metadata": {},
   "source": [
    "### 8. Join"
   ]
  },
  {
   "cell_type": "code",
   "execution_count": 48,
   "id": "91aaffd5",
   "metadata": {},
   "outputs": [
    {
     "data": {
      "text/plain": [
       "'who is the pm of india'"
      ]
     },
     "execution_count": 48,
     "metadata": {},
     "output_type": "execute_result"
    }
   ],
   "source": [
    "\" \".join(['who', 'is', 'the', 'pm', 'of', 'india'])"
   ]
  },
  {
   "cell_type": "code",
   "execution_count": 50,
   "id": "e9c1a32e",
   "metadata": {},
   "outputs": [
    {
     "data": {
      "text/plain": [
       "'who-is-the-pm-of-india'"
      ]
     },
     "execution_count": 50,
     "metadata": {},
     "output_type": "execute_result"
    }
   ],
   "source": [
    "\"-\".join(['who', 'is', 'the', 'pm', 'of', 'india'])"
   ]
  },
  {
   "cell_type": "markdown",
   "id": "7e3328e3",
   "metadata": {},
   "source": [
    "### 9. Replace"
   ]
  },
  {
   "cell_type": "code",
   "execution_count": 51,
   "id": "4deead4f",
   "metadata": {},
   "outputs": [
    {
     "data": {
      "text/plain": [
       "'Hi my name is Amit'"
      ]
     },
     "execution_count": 51,
     "metadata": {},
     "output_type": "execute_result"
    }
   ],
   "source": [
    "\"Hi my name is Nitish\".replace(\"Nitish\",\"Amit\")"
   ]
  },
  {
   "cell_type": "code",
   "execution_count": null,
   "id": "40b9a128",
   "metadata": {},
   "outputs": [],
   "source": []
  },
  {
   "cell_type": "markdown",
   "id": "9694d048",
   "metadata": {},
   "source": [
    "### 10. Strip"
   ]
  },
  {
   "cell_type": "code",
   "execution_count": 54,
   "id": "9f7d874d",
   "metadata": {},
   "outputs": [
    {
     "data": {
      "text/plain": [
       "'nitish'"
      ]
     },
     "execution_count": 54,
     "metadata": {},
     "output_type": "execute_result"
    }
   ],
   "source": [
    "name = \"               nitish              \"\n",
    "name.strip()"
   ]
  },
  {
   "cell_type": "code",
   "execution_count": null,
   "id": "173f1bf0",
   "metadata": {},
   "outputs": [],
   "source": [
    "\"hello\"."
   ]
  }
 ],
 "metadata": {
  "kernelspec": {
   "display_name": "Python 3",
   "language": "python",
   "name": "python3"
  },
  "language_info": {
   "codemirror_mode": {
    "name": "ipython",
    "version": 3
   },
   "file_extension": ".py",
   "mimetype": "text/x-python",
   "name": "python",
   "nbconvert_exporter": "python",
   "pygments_lexer": "ipython3",
   "version": "3.8.8"
  }
 },
 "nbformat": 4,
 "nbformat_minor": 5
}
